{
 "cells": [
  {
   "cell_type": "markdown",
   "id": "cf72fc2b-fe94-4194-a30f-7d07e1941805",
   "metadata": {},
   "source": [
    "Q1. What is Abstraction in OOps? Explain with an example."
   ]
  },
  {
   "cell_type": "raw",
   "id": "f1b96214-ab59-4751-b0ed-17d51513e93b",
   "metadata": {},
   "source": [
    "Abstraction is the process of hidden internal details from outer world. "
   ]
  },
  {
   "cell_type": "code",
   "execution_count": 2,
   "id": "f09af791-850c-468e-9aa1-36fb221d6913",
   "metadata": {},
   "outputs": [],
   "source": [
    "import abc\n",
    "class school:\n",
    "    @abc.abstractmethod \n",
    "    def student_details(self):\n",
    "        pass\n",
    "    @abc.abstractmethod\n",
    "    def teachers_details(self):\n",
    "        pass\n",
    "    @abc.abstractmethod\n",
    "    def course_details(self):\n",
    "        pass"
   ]
  },
  {
   "cell_type": "code",
   "execution_count": 3,
   "id": "934892a9-3ebf-4920-bfbb-770d8d783b5d",
   "metadata": {},
   "outputs": [],
   "source": [
    "class student(school):\n",
    "    \n",
    "    def student_details(self,name_of_student):\n",
    "        return f\"The name of student is {name_of_student}\""
   ]
  },
  {
   "cell_type": "code",
   "execution_count": 4,
   "id": "064a7db2-5ac6-4163-a586-be6de03c5428",
   "metadata": {},
   "outputs": [],
   "source": [
    "class teachers(school):\n",
    "    \n",
    "    def teacher_details(self):\n",
    "        return f\"That is the method of class teacher details\""
   ]
  },
  {
   "cell_type": "code",
   "execution_count": 7,
   "id": "777cddc4-e7de-4134-a033-18f8db5bca99",
   "metadata": {},
   "outputs": [],
   "source": [
    "class course(school):\n",
    "    \n",
    "    def course_details(self):\n",
    "        print(\"That is the method of course details\")"
   ]
  },
  {
   "cell_type": "code",
   "execution_count": 8,
   "id": "7c782f7d-f64f-45b1-9d57-7adc869ee419",
   "metadata": {},
   "outputs": [
    {
     "data": {
      "text/plain": [
       "'The name of student is sachin'"
      ]
     },
     "execution_count": 8,
     "metadata": {},
     "output_type": "execute_result"
    }
   ],
   "source": [
    "s1 = student()\n",
    "s1.student_details(\"sachin\")"
   ]
  },
  {
   "cell_type": "markdown",
   "id": "10f70690-4792-48cb-91f8-cbf4d96e7387",
   "metadata": {},
   "source": [
    "Q2. Differentiate between Abstraction and Encapsulation. Explain with an example."
   ]
  },
  {
   "cell_type": "raw",
   "id": "04a0ba90-61eb-43a7-9476-3aa9db0e79bc",
   "metadata": {},
   "source": [
    "Abstraction is used to hide interface details in application from outside world give simple and easy method to access and operate application to user. whereas Encapsulation is used to hide variable or implemantation in a specific class and gives other method to user to give access (setter , getter, deleter)"
   ]
  },
  {
   "cell_type": "raw",
   "id": "df27a1e3-20fc-4be1-9e8b-8c7d9001cc90",
   "metadata": {},
   "source": [
    "Abstraction example given in que1"
   ]
  },
  {
   "cell_type": "code",
   "execution_count": null,
   "id": "696ea0b5-3fdd-415a-b084-1be8a7743c6c",
   "metadata": {},
   "outputs": [],
   "source": [
    "class pwskills:\n",
    "    def __init__()"
   ]
  },
  {
   "cell_type": "markdown",
   "id": "62695767-3d5e-401c-b14e-4dbd3650e8d6",
   "metadata": {},
   "source": [
    "Q3. What is abc module in python? Why is it used?"
   ]
  },
  {
   "cell_type": "raw",
   "id": "54f85169-3939-4265-b00b-8741fd983e6e",
   "metadata": {},
   "source": [
    "abc module in python is the module which used to abstract of  class. And method which used in class."
   ]
  },
  {
   "cell_type": "markdown",
   "id": "95316059-44ed-41f0-8065-39166051d4a1",
   "metadata": {},
   "source": [
    "Q4. How can we achieve data abstraction?"
   ]
  },
  {
   "cell_type": "raw",
   "id": "43660be3-f6b7-444f-82d3-b753e5ecb0c1",
   "metadata": {},
   "source": [
    "Data abstraction achieve with the help of abc module."
   ]
  },
  {
   "cell_type": "markdown",
   "id": "bdeb76bb-5540-4646-9de9-508f34e8a9ac",
   "metadata": {},
   "source": [
    "Q5. Can we create an instance of an abstract class? Explain your answer."
   ]
  },
  {
   "cell_type": "raw",
   "id": "56658555-2f57-45cd-a0e5-eaf908dc2aaa",
   "metadata": {},
   "source": [
    "yes,,we create an instance of an abstract class.\n",
    "because without instance we can't run program effectively."
   ]
  }
 ],
 "metadata": {
  "kernelspec": {
   "display_name": "Python 3 (ipykernel)",
   "language": "python",
   "name": "python3"
  },
  "language_info": {
   "codemirror_mode": {
    "name": "ipython",
    "version": 3
   },
   "file_extension": ".py",
   "mimetype": "text/x-python",
   "name": "python",
   "nbconvert_exporter": "python",
   "pygments_lexer": "ipython3",
   "version": "3.10.8"
  }
 },
 "nbformat": 4,
 "nbformat_minor": 5
}
